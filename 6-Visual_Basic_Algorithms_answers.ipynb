{
 "cells": [
  {
   "cell_type": "markdown",
   "metadata": {},
   "source": [
    "# <center>Part 6: Visual Basic Algorithms in Python</center>"
   ]
  },
  {
   "cell_type": "markdown",
   "metadata": {},
   "source": [
    "Welcome to the sixth notebook in the series. Today we'll be using the skills you've (hopefully 😉) picked up over the last three notebooks to reimplement some of the algorithms you learned in the Higher Curriculum. I will firstly outline the algorithm in Visual Basic, break it down into the thought process behind it and show you how Python takes some shortcuts to achieve the same results.\n",
    "\n",
    "Let's start with the algorithms concerning arrays, as Lists should still be rather fresh in your mind from last time. "
   ]
  },
  {
   "cell_type": "markdown",
   "metadata": {},
   "source": [
    "## Finding the Maximum"
   ]
  },
  {
   "cell_type": "markdown",
   "metadata": {},
   "source": [
    "Normally this algorithm is concerned with iterating through an array of integers or real/floats to find the one with the highest value. The code you would write in visual basic, given an array of 10 integers called <code>numbers</code> could look as follows:\n",
    "```VBA\n",
    "DIM maximum AS INTEGER\n",
    "\n",
    "SET maximum TO numbers[0]\n",
    "\n",
    "FOR counter FROM 1 TO 9 DO\n",
    "\n",
    "    IF numbers[counter] > maximum THEN\n",
    "\n",
    "        SET maximum TO numbers[counter]\n",
    "    \n",
    "    END IF\n",
    "\n",
    "END FOR\n",
    "\n",
    "SEND \"The maximum value was \" & maximum TO DISPLAY\n",
    "\n",
    "```"
   ]
  },
  {
   "cell_type": "markdown",
   "metadata": {},
   "source": [
    "The pseudo-code here is essentially:\n",
    "- Initialise a variable to hold the maximum value and set it equal to the first element\n",
    "- For next element, check if it is greater than <code>maximum</code>\n",
    "    - If true, overwrite <code>maximum</code> with that value\n",
    "    - If false, check next element in array\n",
    "- Continue until whole array has been checked\n",
    "- Print the value stored in <code>maximum</code>"
   ]
  },
  {
   "cell_type": "markdown",
   "metadata": {},
   "source": [
    "With Python you could take two approaches:\n",
    "- Write out an equivalent algorithm in Python's syntax\n",
    "- Use the built-in <code>max()</code> function\n",
    "\n",
    "They do say work smarter and not harder but for the purpose of learning, we'll take the first approach.\n",
    "\n",
    "\n",
    "\n",
    "We'll define this algorithm as a function; so, given a list of integers called <code>numbers</code>, let's find the \n",
    "maximum element and **please** make sure to run the cell below containing a function to create a random list before our algorithm!"
   ]
  },
  {
   "cell_type": "code",
   "execution_count": null,
   "metadata": {},
   "outputs": [],
   "source": [
    "## This function is here to generate a random list of numbers for you.\n",
    "# You do NOT have to undertsand it but feel free to read it\n",
    "import random\n",
    "\n",
    "def generateList():\n",
    "    List = []\n",
    "\n",
    "# We use the random function to generate a random number of \n",
    "# elements (between 20 and 50) of a random value (between 0 and 300) for each element, for you to use\n",
    "    \n",
    "    for i in range(0,random.randint(19,49)): #length of array will be between 20 and 50 elements\n",
    "        # can you figure out why we use 19 and 49 here instead of 20 and 50?\n",
    "        \n",
    "        List.append(random.randint(0,300)) # each value will be between 0 and 300\n",
    "    \n",
    "    return List"
   ]
  },
  {
   "cell_type": "code",
   "execution_count": null,
   "metadata": {},
   "outputs": [],
   "source": [
    "numbers = [] # This list is outside our function so it's a global variable\n",
    "             # we can access and change it inside a function with the global keyword\n",
    "\n",
    "def findTheMaximum():\n",
    "\n",
    "    global numbers   # Tell python we want to refer to our global variable and not a new local one called numbers\n",
    "    \n",
    "    numbers = generateList() # Place the random values into our global variable list\n",
    "    \n",
    "    # Now that we have our list of randomly generated integers, the actual algorithm is written below:\n",
    "\n",
    "    maximum = numbers[0] # Set maximum to first element of list\n",
    "\n",
    "    for index in range(1,len(numbers)): # Iterate from second element (position 1)\n",
    "        if(numbers[index] > maximum): # Check if element is greater than max\n",
    "            maximum = numbers[index] \n",
    "            # If true, maximum is overwritten. If false, this line does not execute and we loop\n",
    "\n",
    "        \n",
    "    return maximum # Our function returns an integer: the largest element in our list"
   ]
  },
  {
   "cell_type": "markdown",
   "metadata": {},
   "source": [
    "Now that we've written our algorithm, let's check it against the built-in Python version which returns the largest element in a list:"
   ]
  },
  {
   "cell_type": "code",
   "execution_count": null,
   "metadata": {},
   "outputs": [],
   "source": [
    "print(\"Our function returns:      \", findTheMaximum())\n",
    "\n",
    "print(\"Python's function returns: \", max(numbers)) \n",
    "# we declared numbers as a global variable so we can use it in this cell and use the same list\n",
    "\n",
    "# These two values should match, rerun this cell for a new list and maximum \n",
    "# You could write a print statement here if you want to see your list of numbers: print(numbers)"
   ]
  },
  {
   "cell_type": "markdown",
   "metadata": {},
   "source": [
    "\n",
    "\n",
    "## Finding the Minimum"
   ]
  },
  {
   "cell_type": "markdown",
   "metadata": {},
   "source": [
    "Similar to the previous one, this algorithm also works on a collection of numerical values. Its implementation is very similar to that of Finding the Maximum with the only real practical difference being the logical operator used in the comparison - less than.\n",
    "\n",
    "The Visual Basic code with an array, called <code>numbers</code>, of 10 integers looks like:\n",
    "```vba\n",
    "DIM minimum AS INTEGER\n",
    "\n",
    "SET minimum TO numbers[0]\n",
    "\n",
    "FOR counter FROM 1 TO 9 DO\n",
    "    \n",
    "    IF numbers[counter] ˂ minimum THEN\n",
    "    \n",
    "        SET minimum TO numbers[counter]\n",
    "    \n",
    "    END IF\n",
    "\n",
    "END FOR\n",
    "\n",
    "SEND \"The minimum value was ” & minimum TO DISPLAY\n",
    "\n",
    "```\n",
    "\n",
    "\n",
    "The algorithm's essence then is:\n",
    "- Initialise a variable to hold the minimum value and set it equal to the first element\n",
    "- For next element, check if it is less than <code>minimum</code>\n",
    "    - If true, overwrite <code>minimum</code> with that value\n",
    "    - If false, check next element in array\n",
    "- Continue until whole array has been checked\n",
    "- Print the value stored in <code>minimum</code>\n",
    "\n",
    "\n",
    "\n",
    "Using the previous algorithm as a reference, why don't you try to write this one out yourself?\n",
    "\n",
    "Here are some **hints** on what you will have to do:\n",
    "- Define a function called <code>findTheMinimum()</code> which takes no arguments\n",
    "- Tell the function you want to refer to the global list <code>numbers</code>\n",
    "- Fill <code>numbers</code> with a new list of random values by calling <code>generateList()</code> and storing this in <code>numbers</code>\n",
    "- Define a variable called <code>minimum</code> and set it equal to the first element of <code>numbers</code>\n",
    "- Iterate through the whole of <code>numbers</code>\n",
    "    - If the current element is less than <code>minimum</code>, overwrite it with the element's value\n",
    "    - Else do nothing and continue looping\n",
    "- Once the loop has finished, return the value contained in <code>minimum</code>\n",
    "\n",
    "\n",
    "We will use the same print statements as before to check your function's return value against Python's built-in function!"
   ]
  },
  {
   "cell_type": "code",
   "execution_count": null,
   "metadata": {},
   "outputs": [],
   "source": [
    "# Write your code beneath this line here:\n",
    "\n",
    "numbers = []\n",
    "\n",
    "def findTheMinimum():\n",
    "    global numbers\n",
    "    numbers = generateList()\n",
    "    \n",
    "    minimum = numbers[0]\n",
    "    \n",
    "    for index in range(1,len(numbers)):\n",
    "        if(numbers[index] < minimum):\n",
    "            minimum = numbers[index]\n",
    "\n",
    "    return minimum\n"
   ]
  },
  {
   "cell_type": "code",
   "execution_count": null,
   "metadata": {},
   "outputs": [],
   "source": [
    "# This cell will return an error until your function is well defined and returns a value:\n",
    "\n",
    "print(\"Yur function returns:      \", findTheMinimum())\n",
    "\n",
    "print(\"Python's function returns: \", min(numbers)) "
   ]
  },
  {
   "cell_type": "markdown",
   "metadata": {},
   "source": [
    "Well done! The final notebook will focus on the three remaining standard algorithms from the Higher Computing syllabus."
   ]
  }
 ],
 "metadata": {
  "kernelspec": {
   "display_name": "Python 3",
   "language": "python",
   "name": "python3"
  },
  "language_info": {
   "codemirror_mode": {
    "name": "ipython",
    "version": 3
   },
   "file_extension": ".py",
   "mimetype": "text/x-python",
   "name": "python",
   "nbconvert_exporter": "python",
   "pygments_lexer": "ipython3",
   "version": "3.7.6"
  }
 },
 "nbformat": 4,
 "nbformat_minor": 4
}
