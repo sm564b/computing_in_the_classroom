{
 "cells": [
  {
   "cell_type": "markdown",
   "metadata": {},
   "source": [
    "# <center>Part 3: Functions</center>"
   ]
  },
  {
   "cell_type": "markdown",
   "metadata": {},
   "source": [
    "So far we've just been writing and executing code in cells outside of functions. As a result, all the variables we've declared and assigned act similarly to **global variables** and we have to write the code again if we want to perform an operation twice! \n",
    "\n",
    "That's where functions come in, and they're super easy to write and use.\n",
    "Here's some examples of a few functions:"
   ]
  },
  {
   "cell_type": "code",
   "execution_count": null,
   "metadata": {},
   "outputs": [],
   "source": [
    "# Make sure you run this cell so that the function is usable elsewhere in the sheet!\n",
    "\n",
    "\n",
    "def sayHi(): \n",
    "    print(\"hi\") # the body of the function is indented, it won't execute unless the function is called!\n",
    "\n",
    "\n",
    "    \n",
    "def printSquare(number): # As you can probably guess, this function does not like receiving string arguments!\n",
    "    print(number * number)"
   ]
  },
  {
   "cell_type": "markdown",
   "metadata": {},
   "source": [
    "We use the <code>def</code> keyword to tell python we want to write a function, followed by its name.\n",
    "\n",
    "Functions are easy to differentiate from variables because they have curly brackets, inside of which you place the **parameters** - the data we pass along to the function for it to use. A function cannot read any of the variables outside of itself, so we use parameters (also known as **arguments**) to pass the data into it\n",
    "Additionally functions can **return** data to us - the type of data a function returns is written \n",
    "\n",
    "<code>sayHi()</code> has no parameters that we need to supply it with, so we can just type its name to call it. "
   ]
  },
  {
   "cell_type": "code",
   "execution_count": null,
   "metadata": {},
   "outputs": [],
   "source": [
    "sayHi()\n",
    "print(\"\\n\") # Print newline to seperate the outputs\n",
    "printSquare(12)"
   ]
  },
  {
   "cell_type": "markdown",
   "metadata": {},
   "source": [
    "<code>printSquare(number)</code> requires a single parameter. We don't have to store an int inside a variable called <code>number</code> to use the function though, this name <code>number</code> just allows us to use the value passed to the function from inside its body. The name of the function's parameter gives you a clue as to what kind of data you should pass it:"
   ]
  },
  {
   "cell_type": "code",
   "execution_count": null,
   "metadata": {},
   "outputs": [],
   "source": [
    "# I would like to see what 12 squared is\n",
    "x = 12\n",
    "\n",
    "printSquare(x) # I can pass the variable 'x' to my function\n",
    "\n",
    "printSquare(12) # Or I can pass the value 12 to my function\n",
    "\n",
    "# either is fine!\n"
   ]
  },
  {
   "cell_type": "markdown",
   "metadata": {},
   "source": [
    "## Returning Values"
   ]
  },
  {
   "cell_type": "markdown",
   "metadata": {},
   "source": [
    "I used <code>print()</code> inside my functions to see what they would output, but sometimes you want a function to just operate on your data and give it back to you, not print it - this is where **return** values come in. \n",
    "\n",
    "Once we execute a return statement, we exit the function **completely**.\n",
    "\n",
    "Let's revisit some code from notebook 2 and write it out as a function, changing it so that instead of printing feedback, it returns a boolean value:"
   ]
  },
  {
   "cell_type": "code",
   "execution_count": null,
   "metadata": {},
   "outputs": [],
   "source": [
    "def lessThan5(x):  \n",
    "    \n",
    "    if (x < 5):\n",
    "        return True # If x < 5, we return True and exit the program\n",
    "         \n",
    "    return False # Else keyword is not needed, we will only reach this line if x >= 5 \n",
    "\n"
   ]
  },
  {
   "cell_type": "markdown",
   "metadata": {},
   "source": [
    "So <code>lessThan5(x)</code> takes a value <code>x</code> and returns a boolean value. This means when we call this function we can save the boolean value, print it, operate on it, do nothing with it etc:"
   ]
  },
  {
   "cell_type": "code",
   "execution_count": null,
   "metadata": {},
   "outputs": [],
   "source": [
    "bool_1 = lessThan5(4)  # what truth value do you expect these two variables to have?\n",
    "bool_2 = lessThan5(58)\n",
    "\n",
    "lessThan5(20) # This return value is just lost as we dont do anything with it\n",
    "\n",
    "# Because the function returns a value, we can print it without storing it in a variable too!\n",
    "\n",
    "print(bool_1, bool_2, lessThan5(-30))\n"
   ]
  },
  {
   "cell_type": "markdown",
   "metadata": {},
   "source": [
    "We can also use a <code>return</code> statement anywhere in the function to exit should we want to stop that particular block of code from continuing.\n",
    "\n",
    "Why don't you write your own function? Here are some instructions:\n",
    "- Your function should be called \"cubed\", and it should take one parameter/argument\n",
    "- In the function body, you should multiply your argument by itself twice to cube it e.g. 8 \\* 8 \\* 8\n",
    "- Return the cubed value\n",
    "- Write a print statement in another cell and call your function to see its output\n",
    "- Test it for some values to make sure you got it right!\n",
    "\n",
    "Remember to execute the cell that your function definition is in **before** you try to call it elsewhere!"
   ]
  },
  {
   "cell_type": "code",
   "execution_count": null,
   "metadata": {},
   "outputs": [],
   "source": [
    "# write your function definition here:\n",
    "\n"
   ]
  },
  {
   "cell_type": "code",
   "execution_count": null,
   "metadata": {},
   "outputs": [],
   "source": [
    "# Call your function inside the print statement here, passing it different values to test the output:\n",
    "\n"
   ]
  },
  {
   "cell_type": "markdown",
   "metadata": {},
   "source": [
    "Well done! Functions are crucial to any programmer. Typically, a programmer will have a main program file that has very little code in it, which just calls to functions that do all the heavy lifting - this makes it easier to read, understand the total process and edit!\n",
    "\n",
    "In the next notebook, we'll look at Python's alternative to an array, **Lists**, and perform some operations with them."
   ]
  }
 ],
 "metadata": {
  "kernelspec": {
   "display_name": "Python 3",
   "language": "python",
   "name": "python3"
  },
  "language_info": {
   "codemirror_mode": {
    "name": "ipython",
    "version": 3
   },
   "file_extension": ".py",
   "mimetype": "text/x-python",
   "name": "python",
   "nbconvert_exporter": "python",
   "pygments_lexer": "ipython3",
   "version": "3.9.1"
  }
 },
 "nbformat": 4,
 "nbformat_minor": 4
}
