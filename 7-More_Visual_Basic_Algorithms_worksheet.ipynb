{
 "cells": [
  {
   "cell_type": "markdown",
   "metadata": {},
   "source": [
    "# <center>Part 7: More Visual Basic Algorithms!</center>"
   ]
  },
  {
   "cell_type": "markdown",
   "metadata": {},
   "source": [
    "Welcome to the seventh and **final** 😭 notebook in the series.\n",
    "\n",
    "In the last notebook we showed you how to break down the Visual Basic code behind the \"Finding The Maximum\" algorithm and rewrite it in python. Then we set you free to apply what we learned to the \"Finding The Minimum\" algorithm!\n",
    "\n",
    "This notebook will be about the three remaining core algorithms from the Higher Computing Syllabus: Linear Search, Counting Occurrences and Input Validation."
   ]
  },
  {
   "cell_type": "markdown",
   "metadata": {},
   "source": [
    "## Linear Search"
   ]
  },
  {
   "cell_type": "markdown",
   "metadata": {},
   "source": [
    "This algorithm usually involves defining what item you wish to search for, then iterating through an array of data until you find it or reach the end of the array, at which point the program stops. "
   ]
  },
  {
   "cell_type": "markdown",
   "metadata": {},
   "source": [
    "The Visual Basic Code for this algorithm, with an array of 10 strings called <code>nation</code>, could look as follows:\n",
    "```vba\n",
    "SET item_found TO FALSE\n",
    "\n",
    "SET counter TO 0\n",
    "\n",
    "RECEIVE desired_item FROM (STRING) KEYBOARD\n",
    "\n",
    "REPEAT\n",
    "\n",
    "    IF desired_item = nation[counter] THEN\n",
    "    \n",
    "        SET item_found TO TRUE \n",
    "        \n",
    "        SEND \"The program found  \" & desired_item & \" at position \" & counter & “ of the nation array.” TO DISPLAY\n",
    "    \n",
    "    ELSE\n",
    "        \n",
    "        SET counter TO counter + 1\n",
    "    \n",
    "    END IF\n",
    "    \n",
    "UNTIL counter = 10 OR item_found = TRUE\n",
    "\n",
    "IF item_found = FALSE THEN\n",
    "    \n",
    "    SEND “The program did not find a match for “ & desired_item & “ within the nation array.” TO DISPLAY\n",
    "    \n",
    "END IF\n",
    "        \n",
    "```"
   ]
  },
  {
   "cell_type": "markdown",
   "metadata": {},
   "source": [
    "So, the underlying process can be written as:\n",
    "- Declare a boolean variable to keep track of whether we have found a matching element or not (**false** initially)\n",
    "- Receive a value from the user and save it into a variable\n",
    "- Iterate through array elements, at each iteration check if the element matches the user's value\n",
    "    - If true: set boolean variable to true; print to console notifying user of matching elements position; **break** from the loop \n",
    "    - If false: Increment counter and loop to check next element  \n",
    "- Continue looping until we find a match or reach the end of the array\n",
    "    - If we found a matching element: **end** program\n",
    "    - If we didn't find a matching element (boolean variable == false): print to notify user and **end** program"
   ]
  },
  {
   "cell_type": "markdown",
   "metadata": {},
   "source": [
    "So now that we've broken down the algorithm into instructions in English, let's put it back together again in Python with some small changes - really there is no need for the boolean variable, we can just exit the function with a **return** statement once we find the first match. \n",
    "\n",
    "In this case we're **not** actually returning any value, we are just returning to the next line of code outside the function if there is any. \n",
    "\n",
    "To prevent any problems with casting, I will stick to a list that contains strings exclusively:"
   ]
  },
  {
   "cell_type": "code",
   "execution_count": null,
   "metadata": {},
   "outputs": [],
   "source": [
    "# Global variable 'words'\n",
    "words = [\"apple\",\"banana\",\"cat\",\"dog\",\"envelope\",\"fries\",\"gold\",\"horse\",\"indigo\",\"jam\",\"kilt\",\"lemon\",\"mango\",\"night\"\n",
    "       ,\"orange\",\"poster\",\"queen\",\"red\",\"snake\",\"tea\",\"ukulele\",\"valve\",\"water\",\"x-ray\",\"yellow\",\"zebra\"]\n",
    "\n",
    "\n",
    "\n",
    "def linearSearch(my_list):\n",
    "\n",
    "    desired_element = input(\"What would you like to search for? \")\n",
    "\n",
    "\n",
    "    for index in range(len(my_list)): # As before, we iterate over the length of the list\n",
    "        if(my_list[index] == desired_element):\n",
    "        \n",
    "            print(\"\\nFound a match at index:\",index,\" for \\\"\",desired_element,\"\\\". Exiting...\") # If true, executes\n",
    "            return\n",
    "            # any code below this will not be executed upon the 'return' being triggered\n",
    "    \n",
    "        # we dont need to do anything here if we don't find a match, the index will incremement for another loop\n",
    "        \n",
    "    print(\"\\nNo matches found\")\n",
    "     "
   ]
  },
  {
   "cell_type": "markdown",
   "metadata": {},
   "source": [
    "Our function <code>linearSearch(l)</code> takes a list <code>l</code>, asks the user for a string and checks if it is present in <code>l</code>. The function returns no values but prints the index of the element if found.\n",
    "\n",
    "You can play about with the function below by supplying it with the list <code>words</code> as an argument and then providing the <code>input()</code> function with a string:"
   ]
  },
  {
   "cell_type": "code",
   "execution_count": null,
   "metadata": {},
   "outputs": [],
   "source": [
    "linearSearch(words)"
   ]
  },
  {
   "cell_type": "markdown",
   "metadata": {},
   "source": [
    "## Counting Occurrences"
   ]
  },
  {
   "cell_type": "markdown",
   "metadata": {},
   "source": [
    "For the final two algorithms I will be asking you to implement them yourself. You won't be on your own though as I'll still be breaking them down to help you rewrite them.\n",
    "\n",
    "The Counting Occurrences algorithm just is another form of the Linear Search algorithm but with the goal of totalling the occurrences of a given element across the whole list rather than just searching for its first occurrence.\n",
    "\n",
    "The Visual Basic code to count the occurrences of a user's value across an array of 10 integers called <code>age</code> could look like:\n",
    "```vba\n",
    "SET occurrence TO 0\n",
    "\n",
    "RECEIVE desired_value FROM (INTEGER) KEYBOARD\n",
    "\n",
    "FOR counter FROM 0 TO 9 DO\n",
    "\n",
    "    IF age [counter] = desired_value THEN\n",
    "        \n",
    "        SET occurrence TO  occurrence + 1\n",
    "        \n",
    "    END IF\n",
    "    \n",
    "END FOR\n",
    "\n",
    "SEND \"There were \" & occurrence & \" occurrences of \" & desired_value TO DISPLAY\n",
    "```"
   ]
  },
  {
   "cell_type": "markdown",
   "metadata": {},
   "source": [
    "We will make a **small** change to our implementation of this algorithm in that instead of asking the user for a <code>desired_value</code> we will instead supply that value as an argument/parameter to the function and instead of printing inside the function we will <code>return</code> an integer - the number of occurrences.\n",
    "\n",
    "This one should be rather straightforward to implement after all the tasks you've completed so far but below are some guidelines to help you along just in case. I will supply you with a list of ages - there are 100 elements, all of which have a value between 1 and 60 (inclusive).\n",
    "\n",
    "You will need to:\n",
    "- Define a function named <code>countingOccurrences(value)</code> that takes one argument (<code>value</code>)\n",
    "- Declare a variable to keep track of the number of occurrences called <code>occurrences</code>, this should initially be set to 0\n",
    "- Write a <code>for</code> loop that iterates over the entire <code>age</code> list\n",
    "- The loop's body should contain:\n",
    "    - An <code>if</code> statement to check if the current indexed element is equal to <code>value</code>\n",
    "        - If **True**: increment <code>occurrences</code>\n",
    "        - If **False**: do nothing and loop again to check next element\n",
    "- <code>return</code> the variable <code>occurrences</code> "
   ]
  },
  {
   "cell_type": "code",
   "execution_count": null,
   "metadata": {},
   "outputs": [],
   "source": [
    "# Here is your list of ages\n",
    "age = [33, 59, 6, 1, 60, 56, 1, 32, 55, 60, 54, 33, 26, 49, 50, 22, 32, 59, 45, 17, 8, 51, 56, 17, 57, 1, 5, 4, 1, 32, 31, 32, 9, 26, 53, 14, 43, 37, 25, 1, 47, 1, 13, 11, 5, 16, 12, 60, 30, 17, 52, 59, 32, 23, 11, 36, 35, 53, 18, 26, 59, 8, 52, 59, 8, 52, 1, 15, 58, 19, 6, 32, 18, 31, 49, 35, 23, 8, 12, 44, 32, 31, 2, 22, 13, 38, 29, 4, 44, 21, 14, 37, 11, 52, 47, 47, 56, 54, 55, 55]\n",
    "\n",
    "# Write your function here:\n"
   ]
  },
  {
   "cell_type": "code",
   "execution_count": null,
   "metadata": {},
   "outputs": [],
   "source": [
    "# Use this cell to see how many occurences there are for a given age in {1,2,3...59,60} \n",
    "# Compare the output with the built-in python function - just give the .count() function the same parameter as your own\n",
    "\n",
    "# Your function:\n",
    "print(countingOccurrences(1)) # make sure the number in both print functions is the same!\n",
    "\n",
    "# Python's built in function:\n",
    "print(\"\\n\"+ str(age.count(1)))\n",
    "\n",
    "# This should output 7 for an age of 1, and 2 for age 60"
   ]
  },
  {
   "cell_type": "markdown",
   "metadata": {},
   "source": [
    "Well done! You should have had an easier time with that one but don't worry if you didn't, programming takes plenty of practice but it's also plenty of fun!"
   ]
  },
  {
   "cell_type": "markdown",
   "metadata": {},
   "source": [
    "\n",
    "\n",
    "## Input Validation"
   ]
  },
  {
   "cell_type": "markdown",
   "metadata": {},
   "source": [
    "Now, input validation involves two core skills we have already seen and practiced: taking an input from a user and using logical operators.\n",
    "\n",
    "The Visual Basic code involved in taking a set of 5 **integer** values one-by-one from a user, checking whether these values are between 0 and 50 (inclusive) and writing them into an array can be written as follows:\n",
    "\n",
    "```vba\n",
    "FOR counter FROM 0 TO 4 Do\n",
    "\n",
    "    RECEIVE score [counter] FROM (INTEGER) KEYBOARD\n",
    "            \n",
    "    WHILE score [counter] ˂0 OR score [counter] ˃ 50 DO\n",
    "    \n",
    "        SEND (“The score you entered was not valid; please enter a score between 0 and 50”) TO DISPLAY\n",
    "        \n",
    "        RECEIVE score [counter] FROM (INTEGER) KEYBOARD\n",
    "    \n",
    "    END WHILE\n",
    "\n",
    "END FOR\n",
    "\n",
    "```\n",
    "\n",
    "\n"
   ]
  },
  {
   "cell_type": "markdown",
   "metadata": {},
   "source": [
    "Don't get tripped up by the nested loop here (that's a loop inside another loop!), they follow the same rules as normal loops.\n",
    "\n",
    "Using the break-down of the Input Validation algorithm and the hints below, try to rewrite the algorithm in Python. \n",
    "\n",
    "You will need to:\n",
    "- Define a function called <code>inputValidation()</code> that takes no arguments\n",
    "- Declare a local variable (inside the function) called <code>numbers</code> as an empty list\n",
    "- Write a <code>for</code> loop that will execute 5 times e.g. <code>range(5)</code>\n",
    "- Inside the <code>for</code> loop's body:\n",
    "    - Take the user's **input** number, **cast** it to an int and **store** it in a variable called <code>user_input</code>\n",
    "    - Write a <code>while</code> loop that only triggers when the user's input is <code>< 0, or >50</code>\n",
    "        - Inside the <code>while</code> loop's body: **take** the user's input again, **cast** it to int and **store** it in <code>user_input</code> again (this should loop until the user provides a value within the bounds)\n",
    "    - Append the valid integer inside <code>user_input</code> to the list <code>numbers</code>\n",
    "- Once the <code>for</code> loop has finished, <code>return</code> the list <code>numbers</code> \n",
    "\n",
    "    \n",
    "This is the hardest of the algorithms to implement as it requires you to use your indents and colons well! If you get stuck, refer back to the Visual Basic code, the hints above and don't be afraid to use your teacher's infinite wisdom!"
   ]
  },
  {
   "cell_type": "code",
   "execution_count": null,
   "metadata": {},
   "outputs": [],
   "source": [
    "# write your code here and don't forget to comment out and explain what the statements do!\n",
    "\n",
    "\n"
   ]
  },
  {
   "cell_type": "code",
   "execution_count": null,
   "metadata": {},
   "outputs": [],
   "source": [
    "# Execute this to use your function and see its output!\n",
    "print(\"Your list of some values between 0 and 50: \", inputValidation())"
   ]
  },
  {
   "cell_type": "markdown",
   "metadata": {},
   "source": [
    "If you completed the tasks above - Congratulations! You're well on your way to become a confident programmer in Python, one of the world's most readily used and sought-after programming languages!\n",
    "\n",
    "Throughout these notebooks, we've drawn on your existing knowledge of Visual Basic and its fundamentals to see how the Computational Thinking skills you've been developing can be applied to learn any programming language out there!\n",
    "Now give yourself a pat on the back."
   ]
  }
 ],
 "metadata": {
  "kernelspec": {
   "display_name": "Python 3",
   "language": "python",
   "name": "python3"
  },
  "language_info": {
   "codemirror_mode": {
    "name": "ipython",
    "version": 3
   },
   "file_extension": ".py",
   "mimetype": "text/x-python",
   "name": "python",
   "nbconvert_exporter": "python",
   "pygments_lexer": "ipython3",
   "version": "3.9.1"
  }
 },
 "nbformat": 4,
 "nbformat_minor": 4
}
