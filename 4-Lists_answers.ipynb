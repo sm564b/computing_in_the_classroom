{
 "cells": [
  {
   "cell_type": "markdown",
   "metadata": {},
   "source": [
    "# <center>Part 4: Lists</center>"
   ]
  },
  {
   "cell_type": "markdown",
   "metadata": {},
   "source": [
    "Welcome to the fourth Jupyter Notebook in this series. Here we will be focussing on transitioning from 1-Dimensional arrays to lists.\n",
    "\n"
   ]
  },
  {
   "cell_type": "markdown",
   "metadata": {},
   "source": [
    "You may remember that to create a 1-D array that holds 10 integers in visual basic, your code would look something like this:\n",
    "```vba\n",
    "    Dim numbers(9) As Integer \n",
    "```\n",
    "\n",
    "Python doesn't exactly deal in arrays but has an excellent alternative - **Lists**. And you'll be glad to know they're a lot more flexible."
   ]
  },
  {
   "cell_type": "markdown",
   "metadata": {},
   "source": [
    "Hopefully I'm starting to jog your memory. You should recall that arrays are of a **fixed** length and data type once you declare them, e.g. the array I declared above will have a fixed size of 10 integer elements, indexed from 0 to 9. Python's lists are quite a bit different.\n",
    "\n",
    "Let's make our own list called **L**, containing the *day*, the *time* and *temperature* of my room. We use *square brackets* to tell python we are using a **list** of elements, and *commas* to separate the individual **elements** inside."
   ]
  },
  {
   "cell_type": "code",
   "execution_count": null,
   "metadata": {},
   "outputs": [],
   "source": [
    "# Notice how we have mixed data types - two strings and one integer\n",
    "L = [\"Friday\",\"18:21\",6]\n",
    "\n",
    "#Run this cell to create the list and print out all the elements!\n",
    "print(L)"
   ]
  },
  {
   "cell_type": "markdown",
   "metadata": {},
   "source": [
    "When we print a list, python kindly formats it for us in a readable manner.\n",
    "\n",
    "Lists are our friend and are characterised by having:\n",
    "- **Dynamic size** (you can add and remove elements)\n",
    "- **Mixed data types** (your list can contain integers, strings, reals etc)\n",
    "- **Element indexing starts at 0** (just like arrays in Visual Basic)\n",
    "- **Ordered and can contain duplicates** (new elements are added to the end to preserve existing element indexing)\n",
    "\n",
    "And yes my room may be cold, but it's nowhere near as **cool** as all the things we can do with our lists!\n",
    "\n",
    "Let's make a list, called **my_alphabet**, of all the lowercase letters from *a* to *z*. We know there are 26 letters, and so the list will have a size of 26 elements. If we want to prove this to ourselves, we can use Python's built-in length function <code>len()</code> and call it on our list like below:"
   ]
  },
  {
   "cell_type": "code",
   "execution_count": null,
   "metadata": {},
   "outputs": [],
   "source": [
    "# I've manually added all the lower-case letters to a list variable called 'alphabet'\n",
    "# Square brackets tell Python it's a list [ ]!\n",
    "\n",
    "my_alphabet = ['a','b','c','d','e','f','g','h','i','j','k','l','m','n','o','p','q','r','s','t','u','v','w','x','y','z']\n",
    "\n",
    "print(len(my_alphabet)) # This is an easy way to check you haven't missed or added an extra element...\n",
    "\n",
    "my_empty_list = [] # This is a list with no elements, it is empty"
   ]
  },
  {
   "cell_type": "markdown",
   "metadata": {},
   "source": [
    "So, we have our list of letters, how do we **access** it?\n",
    "In Visual Basic you might write something like \n",
    "```vba\n",
    "my_number = array[counter]\n",
    "``` \n",
    "to access the value at the index of <code>counter</code>. The same is true here for Python's lists, we can use\n",
    "```python\n",
    "letter_A = my_alphabet[0]\n",
    "```\n",
    "Let's make a word by accessing our *alphabet* list and appending (sticking one thing onto the end of another), using *string_1* **+** *string_2*, letters to each other:"
   ]
  },
  {
   "cell_type": "code",
   "execution_count": null,
   "metadata": {},
   "outputs": [],
   "source": [
    "# First we should declare a variable to hold this in and make it an empty string\n",
    "\n",
    "my_word = \"\" # No characters between the quotation marks denotes an empty string\n",
    "\n",
    "# Now we access our list and append characters to it:\n",
    "\n",
    "my_word = my_word + my_alphabet[7] # '+' has different functions for different data types, here it appends strings\n",
    "my_word = my_word + my_alphabet[8]\n",
    "\n",
    "print(my_word) # The resulting output should have combined the elements we appended from our list"
   ]
  },
  {
   "cell_type": "markdown",
   "metadata": {},
   "source": [
    "You try and give it a go now! See if you can write your name to a variable using the lowercase list and print it to the screen, as above.\n",
    "\n",
    "Bonus points if you can declare your variable and append all the letters in a single line before adding a print statement!\n",
    "\n",
    "**Hint:** You will need to:\n",
    "- Make a variable containing the empty string\n",
    "- Access the <code>my_alphabet</code> list and append a letter onto your variable (remember the index starts at 0!)\n",
    "- Print the completed word "
   ]
  },
  {
   "cell_type": "code",
   "execution_count": null,
   "metadata": {},
   "outputs": [],
   "source": [
    "#Write your code here:\n",
    "\n",
    "\n",
    "name = \"\" + my_alphabet[18]+ my_alphabet[0]+ my_alphabet[12]\n",
    "print(name)"
   ]
  },
  {
   "cell_type": "markdown",
   "metadata": {},
   "source": [
    "Good job! \n",
    "\n",
    "So far we've seen how to create a list and access it's elements using an index but suppose we wanted to append **every** letter in our list to each other and print them out - this would take a lot of <code>... + alphabet[9] + alphabet[10] + ...</code> statements. \n",
    "\n",
    "## For Loops\n",
    "\n",
    "We could speed this up by writing a <code>for</code> loop, but how do we loop through the indexes of a list in Python? Well similar to the code you would write in Visual Basic:\n",
    "```vba\n",
    "For counter From 0 To 9 Do\n",
    "    array[counter] = something\n",
    "End For\n",
    "```\n",
    "in python we use a <code>for</code> loop and a new function called <code>range(x)</code> which takes an integer x as an argument. \n",
    "\n",
    "This python code \n",
    "```python\n",
    "print(range(10))\n",
    "```\n",
    "outputs *range(0,10)* - Python assumes you mean <code>range(0,x)</code> when you type <code>range(x)</code>.\n",
    "\n",
    "This can be used to index a list in the same way as the <code>From 0 To 9</code> in the above VBA code!\n",
    "\n",
    "It's **important** to note that a range like <code>range(0,5)</code> does not contain the numbers 0,1,2,3,4,5 - you should read <code>range(0,5)</code> as \"start at zero, increment on each loop whilst we're less than 5\" . This range gives you the numbers 0,1,2,3,4! \n",
    "\n",
    "See below for an example:"
   ]
  },
  {
   "cell_type": "code",
   "execution_count": null,
   "metadata": {},
   "outputs": [],
   "source": [
    "# Execeute this cell to print out the numbers in range(0,10)\n",
    "\n",
    "# for index i in range(0,10), print my index, then increment my index and loop\n",
    "for i in range(10): \n",
    "    print(i)\n",
    "\n",
    "# Keeps looping whilst i is in range(0,10), as soon as i is not within the range the loop stops"
   ]
  },
  {
   "cell_type": "markdown",
   "metadata": {},
   "source": [
    "So, we can now give python a range of numbers to use as an index; combining that with a <code>for</code> loop we almost have all the tools to loop over a list.\n",
    "\n",
    "So how do we know what range we'll need for a whole list? Well, if you think about it, if we have a list of 10 elements, the index for that list could only take on values between 0 to 9 - which is **the same** as <code>range(10)</code>!\n",
    "\n",
    "Hopefully you are starting to put together what we need to do here...\n",
    "\n",
    "Let's take our lowercase alphabet list, append all elements together and print the result using a <code>For</code> loop!"
   ]
  },
  {
   "cell_type": "code",
   "execution_count": null,
   "metadata": {},
   "outputs": [],
   "source": [
    "# Declare list and string as above:\n",
    "\n",
    "my_alphabet = ['a','b','c','d','e','f','g','h','i','j','k','l','m','n','o','p','q','r','s','t','u','v','w','x','y','z']\n",
    "letters = \"\"\n",
    "\n",
    "# If we want our index range to cover the whole list, we just use the length of the list inside range()\n",
    "\n",
    "for index in range(len(my_alphabet)): # Remember your colon and indent!\n",
    "    letters= letters + my_alphabet[index] # This is the body of the loop that is executed on each loop\n",
    "    \n",
    "print(letters) # Print is not indented as we dont want to print on each loop!"
   ]
  },
  {
   "cell_type": "markdown",
   "metadata": {},
   "source": [
    "Why don't you try making your own <code>For</code> loop to add the numbers 1 to 15 together and print the result?\n",
    "\n",
    "**Hint:** You will need to:\n",
    "- Create a list of the numbers 1 to 15 (can be typed manually or use a <code>For</code> loop if you fancy a challenge)\n",
    "- Make a variable to hold the sum of the numbers\n",
    "- Write a <code>for</code> loop with an <code>index</code>, <code>range</code> of the list's <code>length</code>, and a loop body that adds the <code>list[index]</code> value to the total\n",
    "- A <code>print</code> statement with the result (it should output 120)"
   ]
  },
  {
   "cell_type": "code",
   "execution_count": null,
   "metadata": {},
   "outputs": [],
   "source": [
    "# Write your code here:\n",
    "List = []\n",
    "for i in range(1,16):\n",
    "    List.append(i)\n",
    "    \n",
    "sum = 0\n",
    "\n",
    "for i in List:\n",
    "    sum += i\n",
    "print(sum)"
   ]
  },
  {
   "cell_type": "markdown",
   "metadata": {},
   "source": [
    "## While Loops"
   ]
  },
  {
   "cell_type": "markdown",
   "metadata": {},
   "source": [
    "To explain a <code>while</code> loop, consider how a <code>for</code> loop runs only whilst a condition is **True** like in this example:\n",
    "```python\n",
    "for index in range(0,5):\n",
    "    do_something\n",
    "```\n",
    "\n",
    "Here the range is the set of numbers {0,1,2,3,4}. The loop only executes whilst <code>index</code> is within that set of numbers i.e. \n",
    "- let <code>index = 4</code>\n",
    "- loop checks is index in {0,1,2,3,4}\n",
    "    - This is **True** so we execute the line <code>do_something</code>, increment the index and prepare to loop again\n",
    "- <code>index</code> is now equal to 5\n",
    "- Loop checks if 5 is in {0,1,2,3,4}\n",
    "    - This is **False** so we don't execute <code>do_something</code> and me move onto the code after our loop\n",
    "    \n",
    "The idea behind a <code>while</code> loop is the same except we can specify a **boolean** condition that isn't dependent on a range of numbers. Have a look at the code below:"
   ]
  },
  {
   "cell_type": "code",
   "execution_count": null,
   "metadata": {},
   "outputs": [],
   "source": [
    "condition = True # This is our switch for the while loop\n",
    "\n",
    "while(condition): # This means while(condition == true). We can write while(! condition) to mean (condition == false)\n",
    "    \n",
    "    print(\"This will run forever until condition becomes False!\") \n",
    "    # We better write something else in the loop body that flips the switch and stops it running infinitely!\n",
    "    \n",
    "    if(5 > 2 > 1): # Read as if 5 > 2 AND 2 > 1\n",
    "        condition = False # Flip the switch\n",
    "        print(\"\\n5 is greater than 2 and 2 is greater than 1 so we flip the switch, and the loop does not run a second time!\")\n",
    "\n"
   ]
  },
  {
   "cell_type": "markdown",
   "metadata": {},
   "source": [
    "\n",
    "Consider this implementation of the example <code>for</code> loop we saw earlier, but using a <code>while</code> loop instead:"
   ]
  },
  {
   "cell_type": "code",
   "execution_count": null,
   "metadata": {},
   "outputs": [],
   "source": [
    "# Declare list and string as above:\n",
    "\n",
    "my_alphabet = ['a','b','c','d','e','f','g','h','i','j','k','l','m','n','o','p','q','r','s','t','u','v','w','x','y','z']\n",
    "letters = \"\"\n",
    "\n",
    "counter = 0\n",
    "\n",
    "while(counter < len(my_alphabet)): # This will be true until we have iterated over the whole list\n",
    "\n",
    "    letters = letters + my_alphabet[counter] # Stick the indexed character onto the end of the 'letters'string\n",
    "    \n",
    "    counter = counter + 1 # If we didn't increment the counter this would run for ever!\n",
    "    \n",
    "print(letters)\n",
    "\n"
   ]
  },
  {
   "cell_type": "markdown",
   "metadata": {},
   "source": [
    "So, both loops are similar in the way they work, but <code>while</code> loops are better suited for situations where you want one thing to change and stop the loop, else it keeps running."
   ]
  },
  {
   "cell_type": "markdown",
   "metadata": {},
   "source": [
    "Well done! You should have a grasp of some of the basic operations you can perform with Lists in Python; I told you they were easy! \n",
    "\n",
    "The next notebook will teach you how to cast one data type to another and ask the user for a value to store it and use elsewhere."
   ]
  }
 ],
 "metadata": {
  "kernelspec": {
   "display_name": "Python 3",
   "language": "python",
   "name": "python3"
  },
  "language_info": {
   "codemirror_mode": {
    "name": "ipython",
    "version": 3
   },
   "file_extension": ".py",
   "mimetype": "text/x-python",
   "name": "python",
   "nbconvert_exporter": "python",
   "pygments_lexer": "ipython3",
   "version": "3.7.6"
  }
 },
 "nbformat": 4,
 "nbformat_minor": 4
}
