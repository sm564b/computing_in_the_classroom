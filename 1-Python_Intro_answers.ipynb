{
 "cells": [
  {
   "cell_type": "markdown",
   "metadata": {},
   "source": [
    "# <center>Part 1: Introduction</center>"
   ]
  },
  {
   "cell_type": "markdown",
   "metadata": {},
   "source": [
    "Hello there and welcome to the first notebook in my Python Tutorial series🎉🎊! Over the course of 7 notebooks, I will teach you how to do some of the things you learned in Visual Basic in Python.\n",
    "## Printing"
   ]
  },
  {
   "cell_type": "markdown",
   "metadata": {},
   "source": [
    "Firstly, let's just make sure you're awake!\n",
    "Python lets you print things on screen by calling the rather easy to remember <code>print()</code> function - we use this to get feedback from Python.\n",
    "\n",
    "Let the world know all about it in the box down below by printing the **string** \"Hello World!\" - make sure to put quotes **\"\"** around round your sentence! "
   ]
  },
  {
   "cell_type": "code",
   "execution_count": null,
   "metadata": {},
   "outputs": [],
   "source": [
    "print(\"Hello World!\")"
   ]
  },
  {
   "cell_type": "markdown",
   "metadata": {},
   "source": [
    "Now how about you tell me your favourite singer or band? I'll go first:"
   ]
  },
  {
   "cell_type": "code",
   "execution_count": null,
   "metadata": {},
   "outputs": [],
   "source": [
    "print(\"My favourite singer is Rick Astley\")\n",
    "\n",
    "# Hi there - This line starts with a hash (#), so it becomes a comment and isnt executed "
   ]
  },
  {
   "cell_type": "markdown",
   "metadata": {},
   "source": [
    "No judgment please...\n",
    "\n",
    "Now you try in the cell below. You'll need to call the <code>print()</code> statement and put your favourite artist between the brackets.\n",
    "\n",
    "REMEMBER - you are writing a **string**, so you need quotation marks -> **\"\"** <-"
   ]
  },
  {
   "cell_type": "code",
   "execution_count": null,
   "metadata": {},
   "outputs": [],
   "source": [
    "# write your code under here and execute it\n",
    "print(\"Whatever artist you really like :) \")"
   ]
  },
  {
   "cell_type": "markdown",
   "metadata": {},
   "source": [
    "Well, they are very good I'll give you that, but I'm more a fan of their earlier work..."
   ]
  },
  {
   "cell_type": "markdown",
   "metadata": {},
   "source": [
    "## Printing Variables\n",
    "\n",
    "Now that you've got the hang of printing a string, what else can you print? Well, much like in Visual Basic you can print all kinds of data types like in the cell below:"
   ]
  },
  {
   "cell_type": "code",
   "execution_count": null,
   "metadata": {},
   "outputs": [],
   "source": [
    "print(600) # printing an integer\n",
    "\n",
    "print(5.9) # printing a float\n",
    "\n",
    "print('c') # printing a single character, notice we use '' for a single character and \"\" for a string of characters\n",
    "\n",
    "print(5 + 5) # printing the sum of two integers\n",
    "\n",
    "print('d' + 'o' + 'g' + \"go\") # adding strings or characters together appends them (sticks them together)\n",
    "\n",
    "print(\"\\n\") # the \"\\\" back-slash is a special 'escape' character. We put \"\\n\" wherever we want to print a blank newline\n",
    "\n",
    "print(600, 5.9, 'c', \"doggo\", 5+5) # printing different data types on the same line"
   ]
  },
  {
   "cell_type": "markdown",
   "metadata": {},
   "source": [
    "It should come as no surprise then that we can also <code>print()</code> variables, although they are a little different in Python..."
   ]
  },
  {
   "cell_type": "code",
   "execution_count": null,
   "metadata": {},
   "outputs": [],
   "source": [
    "# First we give the name of our variable and set it equal to something\n",
    "my_number = 10\n",
    "\n",
    "# Then we can print our variable:\n",
    "print(my_number)"
   ]
  },
  {
   "cell_type": "markdown",
   "metadata": {},
   "source": [
    "Python is rather clever because we don't have to declare explicitly what data type (like **integer**, or **string** etc) we want the variable to be. There is no \n",
    "```vba\n",
    "DIM my_number AS INT\n",
    "\n",
    "SET my_number TO 6\n",
    "\n",
    "```\n",
    "instead we just have \n",
    "```python \n",
    "my_number = 6 \n",
    "\n",
    "```\n",
    "Some examples of different variable types:"
   ]
  },
  {
   "cell_type": "code",
   "execution_count": null,
   "metadata": {},
   "outputs": [],
   "source": [
    "my_sentence = \"Python is super clever!\" # Python works out we want a string here because of the quotes -> \"\" <-\n",
    "\n",
    "my_int = 2 # A whole number is saved as an integer\n",
    "\n",
    "my_float = 2.0 # The decimal tells python that we want a float type here\n",
    "\n",
    "my_boolean = True # Assigning a variable True or False results in a boolean"
   ]
  },
  {
   "cell_type": "markdown",
   "metadata": {},
   "source": [
    "Why don't you try saving your name into a variable called <code>my_name</code> and your age into another variable called <code>my_age</code> and then <code>print()</code> them on the same line."
   ]
  },
  {
   "cell_type": "code",
   "execution_count": 3,
   "metadata": {},
   "outputs": [
    {
     "name": "stdout",
     "output_type": "stream",
     "text": [
      "John Smith 100\n",
      "Hi. My name is John Smith. I'm 100 years old!\n"
     ]
    }
   ],
   "source": [
    "# Write your code underneath this comment and execute it (if you get stuck, have a look at the examples above)\n",
    "\n",
    "my_name = \"John Smith\"\n",
    "my_age = 100\n",
    "\n",
    "print(my_name, my_age)\n",
    "\n",
    "# Or if you want the fromatting to be all nice and fancy:\n",
    "print(str(\"Hi. My name is {}. I'm {} years old!\").format(my_name,my_age))\n"
   ]
  },
  {
   "cell_type": "markdown",
   "metadata": {},
   "source": [
    "Good job! So by now you should be a little more familiar with how Python handles variables and data types.\n",
    "\n",
    "In the next notebook, we'll have a look at Python's **syntax** and **logical** operators to write slightly longer pieces of code."
   ]
  }
 ],
 "metadata": {
  "kernelspec": {
   "display_name": "Python 3",
   "language": "python",
   "name": "python3"
  },
  "language_info": {
   "codemirror_mode": {
    "name": "ipython",
    "version": 3
   },
   "file_extension": ".py",
   "mimetype": "text/x-python",
   "name": "python",
   "nbconvert_exporter": "python",
   "pygments_lexer": "ipython3",
   "version": "3.9.1"
  }
 },
 "nbformat": 4,
 "nbformat_minor": 4
}
