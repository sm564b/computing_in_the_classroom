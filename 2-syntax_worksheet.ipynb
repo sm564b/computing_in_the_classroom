{
 "cells": [
  {
   "cell_type": "markdown",
   "metadata": {},
   "source": [
    "# <center>Part 2: Syntax</center>"
   ]
  },
  {
   "cell_type": "markdown",
   "metadata": {},
   "source": [
    "Welcome back! This is the second notebook in the series, today we'll be learning about Python's syntax.\n"
   ]
  },
  {
   "cell_type": "markdown",
   "metadata": {},
   "source": [
    "## Logical Operators\n",
    "\n",
    "The syntax of a language is the structure the computer expects it in - if you dont follow the syntax your code won't run. In python that means indents, and lots of them.\n",
    "\n",
    "I can still cast my mind back to my own Higher Computing Science teacher telling me to indent my code! In Visual Basic this serves to make the code more readable **but** in Python, it's **required** to indicate a block of code."
   ]
  },
  {
   "cell_type": "markdown",
   "metadata": {},
   "source": [
    "Have a look at the code below. It's a classic case of <code>if, then, else</code> using some of Python's logical operators:\n",
    "- **==** (equal to)\n",
    "- **!=** (not equal to)\n",
    "- **<=** (less than or equal to)\n",
    "- **\\>=** (greater than or equal to)\n",
    "- **<** (less than)\n",
    "- **\\>** (greater than)\n",
    "\n",
    "The indentation is used to show that the block of code inside is triggered by the block above it - in this case, when the code encased inside <code>if( ... )</code> is evaluated as **True**.\n",
    "\n",
    "Play about with the value for <code>x</code> and see if you can trigger both blocks of code:"
   ]
  },
  {
   "cell_type": "code",
   "execution_count": null,
   "metadata": {},
   "outputs": [],
   "source": [
    "x = 10\n",
    "\n",
    "# Notice the colon operator after the IF clause and the ELSE clause is required before the indent\n",
    "# Think of the colon as the 'THEN' part of a Visual Basic IF THEN ELSE statement\n",
    "\n",
    "if (x <= 5):\n",
    "    print(\"x is less than or equal to 5\")\n",
    "else: \n",
    "    print(\"x is more than 5\")"
   ]
  },
  {
   "cell_type": "markdown",
   "metadata": {},
   "source": [
    "You will probably be used in Visual Basic to writing \n",
    "```vba\n",
    "IF x > y THEN\n",
    "    doSomething\n",
    "END IF\n",
    "```\n",
    "\n",
    "With Python, we don't have to explicitly end the <code>if</code> statement, we just start the next block of code at the previous indentation. Here's an example below:"
   ]
  },
  {
   "cell_type": "code",
   "execution_count": null,
   "metadata": {},
   "outputs": [],
   "source": [
    "# Change the x value and estimate what will be printed out\n",
    "x = 5\n",
    "\n",
    "\n",
    "if (x<=5): # Statement 1\n",
    "    print(\"Statement 1 is true\")\n",
    "else: \n",
    "    if (x>5): # Statement 2\n",
    "        print(\"Statement 2 is true\") # Indented so will only execute depending on above block of code\n",
    "\n",
    "print(\"\\nThis line will always execute, it does not depend on any others.\") \n",
    "\n",
    "# Notice our last line is not indented and so does not depend on the other statements?\n"
   ]
  },
  {
   "cell_type": "markdown",
   "metadata": {},
   "source": [
    "Try and make your own <code>if, then, else</code> in the cell below. \n",
    "You'll need to:\n",
    "- Assign a variable a value\n",
    "- Decide on a threshold value (The above example's threshold was **5**)\n",
    "- Check if your variable is <= **or** > the threshold \n",
    "- Print something out for each <code>if</code> statement so you know which one executed \n",
    "\n"
   ]
  },
  {
   "cell_type": "code",
   "execution_count": null,
   "metadata": {},
   "outputs": [],
   "source": [
    "# Write your code below this line here, try to use different values to the example\n"
   ]
  },
  {
   "cell_type": "markdown",
   "metadata": {},
   "source": [
    "How about something a little more complicated? \n",
    "\n",
    "Suppose you walk into a shop and you want to buy a pair of rather nice £4 socks - we can write the scenario from the cashier's point of view.\n",
    "\n",
    "Once scanned, the helpful member of staff will know the price of your lovely new socks and is waiting for you to pay. From there, one of three outcomes will happen:\n",
    "1. You pay the full price of the socks and everyone is happy\n",
    "2. You pay too much and the cashier must give you change\n",
    "3. You pay too little, and the cashier will awkwardly ask you for more money \n",
    "\n",
    "Let's write this as some code:"
   ]
  },
  {
   "cell_type": "code",
   "execution_count": null,
   "metadata": {},
   "outputs": [],
   "source": [
    "# Think of this as the 'train of thought' inside the cashier's head\n",
    "\n",
    "# We store the cost of the socks inside a variable to use later \n",
    "# Python is happy to mix data types when subtracting, adding etc with integers and reals\n",
    "cost = 4\n",
    "\n",
    "# To make the cashier's day a little easier let's pretend we pay the full price\n",
    "payment = 4\n",
    "\n",
    "# Now lets use indents and logical operators to account for the three scenarios and their outcomes\n",
    "\n",
    "if (payment == cost):\n",
    "    print(\"Thank you for your custom, have a nice day!\") # Scenario 1\n",
    "    \n",
    "else:\n",
    "    if (payment > cost):\n",
    "        print(\"Thank you, here is your change and have a nice day!\") # Scenario 2\n",
    "    \n",
    "    else:\n",
    "        if (payment < cost):\n",
    "            print(\"Sorry, you're a bit short on cash there...\") # Scenario 3"
   ]
  },
  {
   "cell_type": "markdown",
   "metadata": {},
   "source": [
    "Notice how the if statements are indented as they depend on the block of code above: <br>If **Scenario 1** occurs then the message is printed and the process ends. <br>But if Scenario 1 fails we check for **Scenario 2**, so there is a dependency on Scenario 1. <br>The same is true for **Scenario 3** which is dependent on *both* Scenario 1 and 2 being false before it can be checked and eventually executed! \n",
    "\n",
    "Play around with the values for <code>cost</code> and <code>payment</code> to see if you can trigger all three scenarios!"
   ]
  },
  {
   "cell_type": "markdown",
   "metadata": {},
   "source": [
    "Good job! You should be a little more confident on Python's syntax and using logical operators now!\n",
    "Our next notebook will focus on writing seperate **functions** as up until now we have just been writing blocks of code all in the one area."
   ]
  }
 ],
 "metadata": {
  "kernelspec": {
   "display_name": "Python 3",
   "language": "python",
   "name": "python3"
  },
  "language_info": {
   "codemirror_mode": {
    "name": "ipython",
    "version": 3
   },
   "file_extension": ".py",
   "mimetype": "text/x-python",
   "name": "python",
   "nbconvert_exporter": "python",
   "pygments_lexer": "ipython3",
   "version": "3.7.6"
  }
 },
 "nbformat": 4,
 "nbformat_minor": 4
}
