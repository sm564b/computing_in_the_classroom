{
 "cells": [
  {
   "cell_type": "markdown",
   "metadata": {},
   "source": [
    "# <center>Extras: The Power of Classes</center>"
   ]
  },
  {
   "cell_type": "markdown",
   "metadata": {},
   "source": [
    "Hello 👋 and welcome back to another extra installment in the series. Last time, we learnt how to write a class to represent a particular dog: we stored things like the dog's name, age and breed in **variables** and represented sterotypical dog actions like barking and digging as **functions** belonging to the class."
   ]
  },
  {
   "cell_type": "markdown",
   "metadata": {},
   "source": [
    "Whilst that was pretty cool, if you were lucky enough to have 5 dogs (very lucky indeed!) it would take quite a few lines of code to write 5 classes to represent each of them. "
   ]
  },
  {
   "cell_type": "markdown",
   "metadata": {},
   "source": [
    "```python\n",
    "class Dog1:\n",
    "    name = Spot\n",
    "    age = 4\n",
    "    breed = Dalmation\n",
    "    def bark():\n",
    "        print(\"Woof\")\n",
    "    \n",
    "class Dog2:\n",
    "    name = Cheddar\n",
    "    age = 5\n",
    "    breed = Corgi\n",
    "    def bark():\n",
    "        print(\"Woof\")\n",
    "    def giveDisapprovingLook():\n",
    "        print(\"< o_O >\")\n",
    "\n",
    "class Dog3:\n",
    "    # And so on...\n",
    "\n",
    "```"
   ]
  },
  {
   "cell_type": "markdown",
   "metadata": {},
   "source": [
    "What we need is a template of some kind, one that allows us to easily create new dogs and minimise the amount of code we write... "
   ]
  },
  {
   "cell_type": "markdown",
   "metadata": {},
   "source": [
    "## Creating a Blueprint 📜"
   ]
  },
  {
   "cell_type": "markdown",
   "metadata": {},
   "source": [
    "Making a template or **blueprint** class is really easy - you just need to think of attributes (**variables**), actions (**functions**) that the class you are making a blueprint for should have and you don't even need to give any proper value to the variables. "
   ]
  },
  {
   "cell_type": "markdown",
   "metadata": {},
   "source": [
    "Using our previous example of Dogs 🐕, let's make a blank, blueprint class to represent dogs - not just a particular dog, but **any** dog. <br>\n",
    "We'll call it **SimpleDogBlueprint** and keep track of\n",
    "- The dog's name 🏷\n",
    "- How old the dog is 🎂\n",
    "- What breed the dog is 🐕‍🦺\n",
    "\n",
    "This could look something like this:"
   ]
  },
  {
   "cell_type": "code",
   "execution_count": 25,
   "metadata": {},
   "outputs": [],
   "source": [
    "class SimpleDogBlueprint:\n",
    "    name = \"\" \n",
    "    age = 0\n",
    "    breed = \"\"\n",
    "    def bark():\n",
    "        print(\"Woof!\")"
   ]
  },
  {
   "cell_type": "markdown",
   "metadata": {},
   "source": [
    "With this blueprint we can create an **instance** of the class, which has all the properties of the blueprint, by using the <code>=</code> sign. In other words, an instance is the object on the left side of the assignment below. Let's make one:"
   ]
  },
  {
   "cell_type": "code",
   "execution_count": 55,
   "metadata": {},
   "outputs": [],
   "source": [
    "# instance = class\n",
    "dog_1 = SimpleDogBlueprint"
   ]
  },
  {
   "cell_type": "markdown",
   "metadata": {},
   "source": [
    "And just as before, we can access the variables using our <code>.</code> operator:"
   ]
  },
  {
   "cell_type": "code",
   "execution_count": 56,
   "metadata": {},
   "outputs": [
    {
     "name": "stdout",
     "output_type": "stream",
     "text": [
      " 0 \n"
     ]
    }
   ],
   "source": [
    "print(dog_1.name, dog_1.age, dog_1.breed)"
   ]
  },
  {
   "cell_type": "markdown",
   "metadata": {},
   "source": [
    "But oh no, all the values are empty? Of course! <code>dog_1</code> is just a copy of the blueprint! We need some way to make an **instance** of the class *and* give it some values..."
   ]
  },
  {
   "cell_type": "markdown",
   "metadata": {},
   "source": [
    "## The Constructor"
   ]
  },
  {
   "cell_type": "markdown",
   "metadata": {},
   "source": [
    "The easiest way to give our instance of <code>SimpleDogBlueprint</code> some values is by using a **constructor**. In python, this is a function we put inside the class called <code>\\_\\_init()__</code>. Its job is normally to give values to our instance *without* changing the blueprint and it is exectued automatically everytime we do <code>someInstance = SomeClass</code>"
   ]
  },
  {
   "cell_type": "markdown",
   "metadata": {},
   "source": [
    " As with all functions, we can give it some **parameters**. We should change our blueprint to include an <code>\\_\\_init__()</code> function, that takes parameters for **name**, **age** and **breed** and stores their values:"
   ]
  },
  {
   "cell_type": "code",
   "execution_count": 58,
   "metadata": {},
   "outputs": [],
   "source": [
    "class SimpleDogBlueprint:\n",
    "    name = \"\" # variables are empty as before\n",
    "    age = 0\n",
    "    breed =\"\"\n",
    "    \n",
    "    def __init__(self, aName, anAge, aBreed): #Hmmm, what's this blue keyword called \"self\"??\n",
    "        self.name = aName\n",
    "        self.age = anAge\n",
    "        self.breed = aBreed\n",
    "    \n",
    "    def bark(self): \n",
    "        print(\"Woof!\")"
   ]
  },
  {
   "cell_type": "code",
   "execution_count": 53,
   "metadata": {},
   "outputs": [
    {
     "name": "stdout",
     "output_type": "stream",
     "text": [
      "Scooby Doo 12 Great Dane\n"
     ]
    }
   ],
   "source": [
    "# Execute this cell to create an instance of our blueprint properly and to access our variables\n",
    "\n",
    "dog_1 = SimpleDogBlueprint(\"Scooby Doo\",12,\"Great Dane\")\n",
    "print(dog_1.name, dog_1.age, dog_1.breed)"
   ]
  },
  {
   "cell_type": "markdown",
   "metadata": {
    "tags": []
   },
   "source": [
    "Woah what happened there 😵? Our instance <code>dog_1</code> was empty before when we tried to print its variables, and if we look at the blueprint, those variables are still set to empty in the code above!<br>\n",
    "Well, the key is in the constructor - our <code>\\_\\_init()__</code> function..."
   ]
  },
  {
   "cell_type": "markdown",
   "metadata": {},
   "source": [
    "When we executed\n",
    "```python \n",
    "dog_1 = SimpleDogBlueprint(\"Scooby Doo\",12,\"Great Dane\") \n",
    "```"
   ]
  },
  {
   "cell_type": "markdown",
   "metadata": {
    "tags": []
   },
   "source": [
    "the values in the brackets were passed to the class' constructor and in the body of the constructor, we see the parameters:\n",
    "- <code>aName</code> (\"Scooby Doo\")\n",
    "- <code>anAge</code> (12)\n",
    "- <code>aBreed</code> (\"Great Dane\") \n",
    "\n",
    "are assigned to the class' variables. <br>\n"
   ]
  },
  {
   "cell_type": "markdown",
   "metadata": {},
   "source": [
    "*But what is this blue keyword <code>self</code> !?* I hear you ask"
   ]
  },
  {
   "cell_type": "markdown",
   "metadata": {},
   "source": [
    "In python, the <code>self</code> keyword is used to refer to an instance. In the code above, it tells python we want to set the value of <code>name</code> for <code>dog_1</code> to \"Scooby Doo\" rather than change the blueprint's values.\n",
    "\n",
    "Think of it like this:\n",
    "```python\n",
    "dog_1 = SimpleDogBlueprint(\"Scooby Doo\",12,\"Great Dane\") \n",
    "```\n",
    "passes the name, age and breed to SimpleDogBlueprint's constructor and, because of the <code>self</code> keyword, executes:\n",
    "```python\n",
    "def __init__(dog_1,\"Scooby Doo\",12,\"Great Dane\")\n",
    "    dog_1.name = \"Scooby Doo\"\n",
    "    dog_1.age = 12\n",
    "    dog_1.breed = \"Great Dane\"\n",
    "```"
   ]
  },
  {
   "cell_type": "markdown",
   "metadata": {},
   "source": [
    "Compare this with the **class** code for <code>SimpleDogBlueprint</code> above to really see how <code>self</code> references our instance, in this case <code>dog_1</code>!"
   ]
  },
  {
   "cell_type": "markdown",
   "metadata": {},
   "source": [
    "<br>\n",
    "So how do you think we make <code>dog_1</code> bark now? See if you can call <code>dog_1</code>'s bark function below:"
   ]
  },
  {
   "cell_type": "code",
   "execution_count": 64,
   "metadata": {},
   "outputs": [],
   "source": [
    "# Write and execute your one line of code in here under this sentence:\n",
    "\n"
   ]
  },
  {
   "cell_type": "markdown",
   "metadata": {},
   "source": [
    "Nice one! Whenever you see the <code>self</code> keyword, just think **instances** - it must be around function or variable involved with an instance. Lets make another instance from our blueprint, just so Scooby doesn't feel lonely"
   ]
  },
  {
   "cell_type": "code",
   "execution_count": 69,
   "metadata": {},
   "outputs": [
    {
     "name": "stdout",
     "output_type": "stream",
     "text": [
      "Ruh-roh Shaggy! There's Scrappy Doo!\n"
     ]
    }
   ],
   "source": [
    "dog_2 = SimpleDogBlueprint(\"Scrappy Doo\", 2, \"Great Dane\")\n",
    "print(\"Ruh-roh Shaggy! There's \" + dog_2.name + \"!\")"
   ]
  },
  {
   "cell_type": "markdown",
   "metadata": {},
   "source": [
    "## Have a Go!"
   ]
  },
  {
   "cell_type": "markdown",
   "metadata": {},
   "source": [
    "Now that you've seen how to make a class to represent **any** dog and then initialise an instance with its own attributes, why don't you try and make your own"
   ]
  },
  {
   "cell_type": "code",
   "execution_count": null,
   "metadata": {},
   "outputs": [],
   "source": []
  }
 ],
 "metadata": {
  "kernelspec": {
   "display_name": "Python 3",
   "language": "python",
   "name": "python3"
  },
  "language_info": {
   "codemirror_mode": {
    "name": "ipython",
    "version": 3
   },
   "file_extension": ".py",
   "mimetype": "text/x-python",
   "name": "python",
   "nbconvert_exporter": "python",
   "pygments_lexer": "ipython3",
   "version": "3.7.6"
  }
 },
 "nbformat": 4,
 "nbformat_minor": 4
}
