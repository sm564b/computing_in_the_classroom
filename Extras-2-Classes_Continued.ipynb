{
 "cells": [
  {
   "cell_type": "markdown",
   "metadata": {},
   "source": [
    "# <center>Extras: The Power of Classes</center>"
   ]
  },
  {
   "cell_type": "markdown",
   "metadata": {},
   "source": [
    "Hello 👋 and welcome back to another extra installment in the series. Last time, we learnt how to write a class to represent a particular dog: we stored things like the dog's name, age and breed in **variables** and represented sterotypical dog actions like barking and digging as **functions** belonging to the class."
   ]
  },
  {
   "cell_type": "markdown",
   "metadata": {},
   "source": [
    "Whilst that was pretty cool, if you were lucky enough to have 5 dogs (very lucky indeed!) it would take quite a few lines of code to write 5 classes to represent each of them. "
   ]
  },
  {
   "cell_type": "markdown",
   "metadata": {},
   "source": [
    "```python\n",
    "class Dog1:\n",
    "    name = Spot\n",
    "    age = 4\n",
    "    breed = Dalmation\n",
    "    def bark():\n",
    "        print(\"Woof\")\n",
    "    \n",
    "class Dog2:\n",
    "    name = Cheddar\n",
    "    age = 5\n",
    "    breed = Corgi\n",
    "    def bark():\n",
    "        print(\"Woof\")\n",
    "    def giveDisapprovingLook():\n",
    "        print(\"< o_O >\")\n",
    "\n",
    "class Dog3:\n",
    "    # And so on...\n",
    "\n",
    "```"
   ]
  },
  {
   "cell_type": "markdown",
   "metadata": {},
   "source": [
    "What we need is a template of some kind, one that allows us to easily create new dogs and minimise the amount of code we write... "
   ]
  },
  {
   "cell_type": "markdown",
   "metadata": {},
   "source": [
    "## Creating a Blueprint 📜"
   ]
  },
  {
   "cell_type": "markdown",
   "metadata": {},
   "source": [
    "Writing a template or **blueprint** class is really easy - you just need to think of attributes (**variables**), actions (**functions**) that the class you are making a blueprint for should have and you don't even need to give any proper values to the variables. "
   ]
  },
  {
   "cell_type": "markdown",
   "metadata": {},
   "source": [
    "Using our previous example of Dogs 🐕, let's make a blank, blueprint class to represent dogs - not just a particular dog, but **any** dog. <br>\n",
    "We'll call it **SimpleDogBlueprint** and keep track of\n",
    "- The dog's name 🏷\n",
    "- How old the dog is 🎂\n",
    "- What breed the dog is 🐕‍🦺\n",
    "\n",
    "This could look something like this:"
   ]
  },
  {
   "cell_type": "code",
   "execution_count": 20,
   "metadata": {},
   "outputs": [],
   "source": [
    "class SimpleDogBlueprint:\n",
    "    name = \"\" \n",
    "    age = \"\"\n",
    "    breed = \"\"\n",
    "    def bark():\n",
    "        print(\"Woof!\")"
   ]
  },
  {
   "cell_type": "markdown",
   "metadata": {},
   "source": [
    "With this blueprint we can create an **instance** of the class, which has all the properties of the blueprint, by using the <code>=</code> sign. In other words, an instance is the object we set equal to the blueprint, like in the cell below. Let's make one:"
   ]
  },
  {
   "cell_type": "code",
   "execution_count": 21,
   "metadata": {},
   "outputs": [],
   "source": [
    "# instance = class\n",
    "scooby = SimpleDogBlueprint"
   ]
  },
  {
   "cell_type": "markdown",
   "metadata": {},
   "source": [
    "And just as before, we can access the variables and functions of our instance using our <code>.</code> operator:"
   ]
  },
  {
   "cell_type": "code",
   "execution_count": 22,
   "metadata": {},
   "outputs": [
    {
     "name": "stdout",
     "output_type": "stream",
     "text": [
      "  \n"
     ]
    }
   ],
   "source": [
    "print(scooby.name, scooby.age, scooby.breed)"
   ]
  },
  {
   "cell_type": "markdown",
   "metadata": {},
   "source": [
    "But oh no, all the values are empty? Of course! <code>scooby</code> is just a **copy** of the blueprint! We need some way to make an **instance** of the class *and* give it some values..."
   ]
  },
  {
   "cell_type": "markdown",
   "metadata": {},
   "source": [
    "## The Constructor"
   ]
  },
  {
   "cell_type": "markdown",
   "metadata": {},
   "source": [
    "The easiest way to give our instance of <code>SimpleDogBlueprint</code> some values is by using a **constructor**. In python, this is a function we put inside the class called <code>\\_\\_init()__</code>. Its job is normally to give values to our instance *without* changing the blueprint and it is exectued automatically everytime we do <code>someInstance = SomeClass</code>"
   ]
  },
  {
   "cell_type": "markdown",
   "metadata": {},
   "source": [
    " As with all functions, we can give it some **parameters**. We should change our blueprint to include an <code>\\_\\_init__()</code> function, that takes parameters for **name**, **age** and **breed** and stores their values:"
   ]
  },
  {
   "cell_type": "code",
   "execution_count": 24,
   "metadata": {},
   "outputs": [],
   "source": [
    "class SimpleDogBlueprint:\n",
    "    name = \"\" # variables are empty as before\n",
    "    age = 0\n",
    "    breed =\"\"\n",
    "    \n",
    "    def __init__(self, aName, anAge, aBreed): #Hmmm, what's this blue keyword called \"self\"?? Explanation below...\n",
    "        self.name = aName\n",
    "        self.age = anAge\n",
    "        self.breed = aBreed\n",
    "    \n",
    "    def bark(self): \n",
    "        print(\"Woof!\")"
   ]
  },
  {
   "cell_type": "code",
   "execution_count": 25,
   "metadata": {},
   "outputs": [
    {
     "name": "stdout",
     "output_type": "stream",
     "text": [
      "Scooby Doo 12 Great Dane\n"
     ]
    }
   ],
   "source": [
    "# Execute this cell to create an instance of our blueprint properly and to access our variables\n",
    "\n",
    "scooby = SimpleDogBlueprint(\"Scooby Doo\",12,\"Great Dane\")\n",
    "print(scooby.name, scooby.age, scooby.breed)"
   ]
  },
  {
   "cell_type": "markdown",
   "metadata": {
    "tags": []
   },
   "source": [
    "Woah what happened there 😵? Our instance <code>scooby</code> was empty before when we tried to print its variables, and if we look at the blueprint: <code>name</code>, <code>age</code> and <code>breed</code> are still set to empty in the code above!<br>\n",
    "Well, the key is in the constructor - our <code>\\_\\_init()__</code> function..."
   ]
  },
  {
   "cell_type": "markdown",
   "metadata": {},
   "source": [
    "When we executed\n",
    "```python \n",
    "scooby = SimpleDogBlueprint(\"Scooby Doo\",12,\"Great Dane\") \n",
    "```"
   ]
  },
  {
   "cell_type": "markdown",
   "metadata": {
    "tags": []
   },
   "source": [
    "the values in the brackets were passed to the class' constructor and in the body of the constructor, we see the parameters:\n",
    "- <code>aName</code> (\"Scooby Doo\")\n",
    "- <code>anAge</code> (12)\n",
    "- <code>aBreed</code> (\"Great Dane\") \n",
    "\n",
    "are assigned to the class' variables. <br>\n"
   ]
  },
  {
   "cell_type": "markdown",
   "metadata": {},
   "source": [
    "*But what is this blue keyword <code>self</code> !?* I hear you ask"
   ]
  },
  {
   "cell_type": "markdown",
   "metadata": {},
   "source": [
    "In python, the <code>self</code> keyword is used to refer to an instance. In the code above, it tells python we want to set the value of <code>name</code> for <code>scooby</code> to \"Scooby Doo\" rather than change the blueprint's values.\n",
    "\n",
    "Think of it like this:\n",
    "```python\n",
    "scooby = SimpleDogBlueprint(\"Scooby Doo\",12,\"Great Dane\") \n",
    "```\n",
    "passes the name, age and breed to SimpleDogBlueprint's constructor and, because of the <code>self</code> keyword, executes:\n",
    "```python\n",
    "def __init__(scooby,\"Scooby Doo\",12,\"Great Dane\")\n",
    "    scooby.name = \"Scooby Doo\"\n",
    "    scooby.age = 12\n",
    "    scooby.breed = \"Great Dane\"\n",
    "```"
   ]
  },
  {
   "cell_type": "markdown",
   "metadata": {},
   "source": [
    "Compare this with the **class** code for <code>SimpleDogBlueprint</code> above to really see how <code>self</code> references our instance, in this case to <code>scooby</code>!"
   ]
  },
  {
   "cell_type": "markdown",
   "metadata": {},
   "source": [
    "<br>\n",
    "So how do you think we make <code>scooby</code> bark now? See if you can call <code>scooby</code>'s bark function below:"
   ]
  },
  {
   "cell_type": "code",
   "execution_count": 64,
   "metadata": {},
   "outputs": [],
   "source": [
    "# Write and execute your one line of code in here under this sentence:\n",
    "\n"
   ]
  },
  {
   "cell_type": "markdown",
   "metadata": {},
   "source": [
    "Nice one!✅ Whenever you see the <code>self</code> keyword, just think **instances** - it must mean the function or variable is involved with an instance. Lets make another instance from our blueprint, just so old Scoob doesn't feel lonely"
   ]
  },
  {
   "cell_type": "code",
   "execution_count": 6,
   "metadata": {},
   "outputs": [
    {
     "name": "stdout",
     "output_type": "stream",
     "text": [
      "Ruh-roh Shaggy, there's Scrappy Doo!\n"
     ]
    }
   ],
   "source": [
    "scrappy = SimpleDogBlueprint(\"Scrappy Doo\", 2, \"Great Dane\")\n",
    "print(\"Ruh-roh Shaggy, there's \" + scrappy.name + \"!\")"
   ]
  },
  {
   "cell_type": "markdown",
   "metadata": {},
   "source": [
    "## Have a Go!"
   ]
  },
  {
   "cell_type": "markdown",
   "metadata": {},
   "source": [
    "Now that you've seen how to make a class to represent **any** dog and then create an instance with its own values, why don't you try and make your own class blueprint for representing **shapes**!"
   ]
  },
  {
   "cell_type": "markdown",
   "metadata": {},
   "source": [
    "Here are some **hints**📝:\n",
    "- create a class called *Shape*\n",
    "- in the class' body, use appropriately named empty variables to keep track of\n",
    "    - the **type** of shape (e.g. square, circle etc)\n",
    "    - the number of **edges** the shape has\n",
    "    - the shape's **colour**\n",
    "- give the class an <code>\\_\\_init--()</code> constructor that\n",
    "    - accepts <code>self</code> and **three parameters** (one for each variable)\n",
    "    - assigns each of the three parameters to the correct variable\n",
    "- give the class a function called <code>toString()</code> which:\n",
    "    - contains a single line of code that prints its variables in the order: **type**, **edges**, **colour**\n",
    "    - remember to use <code>self</code> as a parameter!\n",
    "    \n",
    "If you get stuck, have a look at how we handled these instructions in the code cell's above!\n",
    "\n",
    "Once you have written your code, test it works by running the \"Testing Cell\"."
   ]
  },
  {
   "cell_type": "code",
   "execution_count": 7,
   "metadata": {},
   "outputs": [],
   "source": [
    "# Write your code in this cell:\n",
    "\n",
    "\n",
    "\n"
   ]
  },
  {
   "cell_type": "code",
   "execution_count": 26,
   "metadata": {
    "collapsed": true,
    "jupyter": {
     "outputs_hidden": true
    },
    "tags": []
   },
   "outputs": [
    {
     "ename": "NameError",
     "evalue": "name 'Shape' is not defined",
     "output_type": "error",
     "traceback": [
      "\u001b[0;31m---------------------------------------------------------------------------\u001b[0m",
      "\u001b[0;31mNameError\u001b[0m                                 Traceback (most recent call last)",
      "\u001b[0;32m<ipython-input-26-fcf3dbaa12fd>\u001b[0m in \u001b[0;36m<module>\u001b[0;34m\u001b[0m\n\u001b[1;32m      1\u001b[0m \u001b[0;31m# Testing Cell - Check your code is working correctly with the examples below by running the cell:\u001b[0m\u001b[0;34m\u001b[0m\u001b[0;34m\u001b[0m\u001b[0;34m\u001b[0m\u001b[0m\n\u001b[1;32m      2\u001b[0m \u001b[0;34m\u001b[0m\u001b[0m\n\u001b[0;32m----> 3\u001b[0;31m \u001b[0mshape_1\u001b[0m \u001b[0;34m=\u001b[0m \u001b[0mShape\u001b[0m\u001b[0;34m(\u001b[0m\u001b[0;34m\"circle\"\u001b[0m\u001b[0;34m,\u001b[0m \u001b[0;36m0\u001b[0m \u001b[0;34m,\u001b[0m\u001b[0;34m\"red\"\u001b[0m\u001b[0;34m)\u001b[0m\u001b[0;34m\u001b[0m\u001b[0;34m\u001b[0m\u001b[0m\n\u001b[0m\u001b[1;32m      4\u001b[0m \u001b[0;34m\u001b[0m\u001b[0m\n\u001b[1;32m      5\u001b[0m \u001b[0;31m# Should print \"circle 0 red\"\u001b[0m\u001b[0;34m\u001b[0m\u001b[0;34m\u001b[0m\u001b[0;34m\u001b[0m\u001b[0m\n",
      "\u001b[0;31mNameError\u001b[0m: name 'Shape' is not defined"
     ]
    }
   ],
   "source": [
    "# Testing Cell - Check your code is working correctly with the examples below by running the cell:\n",
    "\n",
    "shape_1 = Shape(\"circle\", 0 ,\"red\")\n",
    "\n",
    "# Should print \"circle 0 red\"\n",
    "shape_1.toString()\n",
    "\n",
    "\n",
    "anotherShape = Shape(\"triangle\", 3, \"blue\")\n",
    "\n",
    "#Should print \"triangle 3 blue\"\n",
    "anotherShape.toString()\n",
    "\n",
    "square = Shape(\"pentagon\", 5, \"yellow\")\n",
    "\n",
    "# Should print \"pentagon, 5, yellow\"\n",
    "square.print()"
   ]
  },
  {
   "cell_type": "markdown",
   "metadata": {},
   "source": [
    "You're a star 🌟 well done! <br>\n",
    "In these last two notebooks we've learned how to create a class that holds specific values, and other classes to act as a blueprint for multiple instances. Writing and building these classes is a key skill for any programmer working with object-oriented languages like Java or Python, and as you can see it's pretty easy!\n",
    "\n",
    "\n",
    "Sadly this is the last of the series 🥲 - I hope you've found these notebooks to be informative & useful, and as challenging yet enjoyable as I have found writing them!"
   ]
  },
  {
   "cell_type": "code",
   "execution_count": 27,
   "metadata": {},
   "outputs": [
    {
     "name": "stdout",
     "output_type": "stream",
     "text": [
      "Farewell 👋\n"
     ]
    }
   ],
   "source": [
    "print(\"Farewell 👋\")"
   ]
  }
 ],
 "metadata": {
  "kernelspec": {
   "display_name": "Python 3",
   "language": "python",
   "name": "python3"
  },
  "language_info": {
   "codemirror_mode": {
    "name": "ipython",
    "version": 3
   },
   "file_extension": ".py",
   "mimetype": "text/x-python",
   "name": "python",
   "nbconvert_exporter": "python",
   "pygments_lexer": "ipython3",
   "version": "3.7.6"
  }
 },
 "nbformat": 4,
 "nbformat_minor": 4
}
