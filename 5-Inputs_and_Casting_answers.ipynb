{
 "cells": [
  {
   "cell_type": "markdown",
   "metadata": {},
   "source": [
    "# <center>Part 5: Taking User Input and Casting Types</center>"
   ]
  },
  {
   "cell_type": "markdown",
   "metadata": {},
   "source": [
    "Hello and welcome to the fifth notebook in the series. Today we'll be learning how to take the user's input from the keyboard, change its data type and store it into a variable.\n",
    "\n",
    "\n",
    "## Input from Keyboard\n",
    "You may remember in Visual Basic, if you wanted to ask the user (whoever ends up running the program) for a number you could use an inputbox which would appear on screen with a message. Say, for instance, I wanted to fill an array called <code>scores</code> of 5 integers, with the user's input. I would write a loop and for each index of the array I would take the user's input:\n",
    "```vba\n",
    "FOR counter FROM 0 TO 4 Do\n",
    "    RECEIVE score [counter] FROM (INTEGER) KEYBOARD\n",
    "END FOR\n",
    "```\n",
    "\n",
    "To take the user's input as a **string** in Python and store it into a variable, the easiest way is to use the code:\n",
    "```python\n",
    "user_input = input(\"message\")\n",
    "```\n",
    "Here's an example for you to see how it works in Jupyter:"
   ]
  },
  {
   "cell_type": "code",
   "execution_count": null,
   "metadata": {},
   "outputs": [],
   "source": [
    "your_input = input(\"Please type your name here and press 'enter': \")\n",
    "\n",
    "# Now we can do whatever we want with this variable\n",
    "\n",
    "print(\"\\nNice to meet you \"+ your_input + \"!\") # \\n is used to taker another new line inbetween the two outputs "
   ]
  },
  {
   "cell_type": "markdown",
   "metadata": {},
   "source": [
    "The only problem with using this method is that python reads in the user's input as a **string**. We'll see next what this entails and how we can fix it!"
   ]
  },
  {
   "cell_type": "markdown",
   "metadata": {},
   "source": [
    "\n",
    "## Casting Data Types"
   ]
  },
  {
   "cell_type": "markdown",
   "metadata": {},
   "source": [
    "So, if Python reads in user input as a string, what does that mean for us? Well, take a look at this code below; which statement do you think will be printed as the output?"
   ]
  },
  {
   "cell_type": "code",
   "execution_count": null,
   "metadata": {},
   "outputs": [],
   "source": [
    "# Please follow the input instruction and type the number 8 into the box\n",
    "\n",
    "user_input = input(\"Please only type the number 8 into this box: \")\n",
    "\n",
    "if(user_input == 8):\n",
    "    print(\"Statement 1 executed!\") # Statement 1\n",
    "\n",
    "else:\n",
    "    print(\"Statement 2 executed!\") # Statement 2\n",
    "    \n",
    "# Which one will print??"
   ]
  },
  {
   "cell_type": "markdown",
   "metadata": {},
   "source": [
    "So, what went wrong? Why did Python evaluate your input as not equal to 8? The answer is because of the data types!\n",
    "\n",
    "**8** is number, specifically an integer. When you type 8 into the inputbox, Python saves that as a string - so really <code>user_input</code> contains string \"8\" and not the number 8.\n",
    "\n",
    "Can you see why the two aren't the same?\n",
    "\n",
    "\n",
    "We can get around this however by casting data types, here's an example:"
   ]
  },
  {
   "cell_type": "code",
   "execution_count": null,
   "metadata": {},
   "outputs": [],
   "source": [
    "number = 10 # Python assigns 'number' the integer value of 10\n",
    "\n",
    "word = number # Python assigns 'word' the integer value of 10\n",
    "\n",
    "word = str(number) # Python casts 'word' the string of \"10\"\n",
    "\n",
    "number_2 = int(word) # Python takes 'word', casts the value inside to an int, assigns to 'number_2'"
   ]
  },
  {
   "cell_type": "markdown",
   "metadata": {},
   "source": [
    "We can cast data types from one to another whenever we want - so if we're expecting someone to type a number into our <code>input()</code> function, we can **cast** the input to an integer or float!\n",
    "\n",
    "Let's try that with our previous input example:"
   ]
  },
  {
   "cell_type": "code",
   "execution_count": null,
   "metadata": {},
   "outputs": [],
   "source": [
    "# Please follow the input instruction and type the number 8 into the box\n",
    "\n",
    "user_input = int(input(\"Please only type the number 8 into this box: \"))\n",
    "# Notice I have casted the input to type int!\n",
    "\n",
    "if(user_input == 8):\n",
    "    print(\"Statement 1 executed!\") # Statement 1\n",
    "\n",
    "else:\n",
    "    print(\"Statement 2 executed!\") # Statement 2\n",
    "    \n",
    "# Which one do you think will print this time??"
   ]
  },
  {
   "cell_type": "markdown",
   "metadata": {},
   "source": [
    "Now that we know how to read a user's input, why don't you try implementing the Visual Basic code at the top of the page in Python. You will need to:\n",
    "- Declare an empty list called <code>scores</code>\n",
    "- Write a loop that executes 5 times (index of 0 to 4)\n",
    "    - The loop body must get the user's input, cast it to int and append it onto the list\n",
    "- Print your list at the end to check everything went okay!\n",
    "\n",
    "**Remember** To add a useful message inside your <code>input(\"put your message here\")</code> function call!\n",
    "\n"
   ]
  },
  {
   "cell_type": "code",
   "execution_count": null,
   "metadata": {},
   "outputs": [],
   "source": [
    "# Write your code here:\n",
    "scores = []\n",
    "\n",
    "for index in range(5):\n",
    "    scores.append(int(input(\"Please enter score \"+ str(index + 1) +\": \")))\n",
    "print(\"\\n\",scores)"
   ]
  },
  {
   "cell_type": "markdown",
   "metadata": {},
   "source": [
    "Hooray! So, we managed to get around the problem of having a numerical value locked away behind quotation marks!\n",
    "\n",
    "The next notebooks will be about teaching you how to construct some of the algorithms you learned in Higher Computing Science for Visual Basic like finding the maximum, counting occurrences, input validation etc where you will have to put to use all the things you've learnt in the last few notebooks!"
   ]
  }
 ],
 "metadata": {
  "kernelspec": {
   "display_name": "Python 3",
   "language": "python",
   "name": "python3"
  },
  "language_info": {
   "codemirror_mode": {
    "name": "ipython",
    "version": 3
   },
   "file_extension": ".py",
   "mimetype": "text/x-python",
   "name": "python",
   "nbconvert_exporter": "python",
   "pygments_lexer": "ipython3",
   "version": "3.7.6"
  }
 },
 "nbformat": 4,
 "nbformat_minor": 4
}
